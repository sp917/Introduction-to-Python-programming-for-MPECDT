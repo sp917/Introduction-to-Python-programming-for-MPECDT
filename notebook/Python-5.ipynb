{
 "cells": [
  {
   "cell_type": "markdown",
   "metadata": {},
   "source": [
    "# Introduction to Python programming for MPECDT\n",
    "### [Gerard Gorman](http://www.imperial.ac.uk/people/g.gorman), [Christian Jacobs](http://www.imperial.ac.uk/people/c.jacobs10)\n",
    "### Modified for MPECDT by [David Ham](http://www.imperial.ac.uk/people/david.ham)"
   ]
  },
  {
   "cell_type": "markdown",
   "metadata": {},
   "source": [
    "# Lecture 6: Introduction to classes\n",
    "\n",
    "Learning objectives: \n",
    "\n",
    "* Learn how to create your own **objects** in Python and develop **member functions** for these new data types."
   ]
  },
  {
   "cell_type": "markdown",
   "metadata": {},
   "source": [
    "## Class = functions + data (variables) in one unit\n",
    "A class packs together data (a collection of variables) and functions into one single unit. As a programmer you can create a new class and thereby a new **object type** (similar to those you have already encountered - float, string, list, file, etc.). Once you have created a class you can create many objects of that type as you wish, just as you can have many *int* or *float* objects.\n",
    "\n",
    "Modern programming makes heavy use of classes therefore it is an important concept to understand. We will spend this lecture focusing on examples."
   ]
  },
  {
   "cell_type": "markdown",
   "metadata": {},
   "source": [
    "## Representing a function by a class\n",
    "Consider a function of $t$ with a parameter $v_0$:\n",
    "$$ y(t; v_0)=v_0t - {1\\over2}gt^2 $$\n",
    "\n",
    "We need both $v_0$ and $t$ to evaluate $y$ (and $g=9.81$). How should we implement this?"
   ]
  },
  {
   "cell_type": "code",
   "execution_count": 2,
   "metadata": {},
   "outputs": [],
   "source": [
    "def y(t, v0):\n",
    "    g = 9.81\n",
    "    return v0*t - 0.5*g*t**2\n",
    "\n",
    "# or define v0 as a global?\n",
    "\n",
    "def y(t):\n",
    "    g = 9.81\n",
    "    return v0*t - 0.5*g*t**2"
   ]
  },
  {
   "cell_type": "markdown",
   "metadata": {},
   "source": [
    "It is best to have `y` as function of `t` only (`y(t)`, see the book for a thorough discussion). There are two ways this can be implemented - either define `v0` as global variable (bad solution!) or `y` as a class (good solution!)"
   ]
  },
  {
   "cell_type": "markdown",
   "metadata": {},
   "source": [
    "A class has variables and functions. For this example `class Y` for $y(t;v_0)$ has variables `v0` and `g` and a function `value(t)` for computing $y(t;v_0)$. Classes in general should have the special function `__init__` for initialising class variables. \n",
    "\n",
    "Here is the implementation of this class:"
   ]
  },
  {
   "cell_type": "code",
   "execution_count": 3,
   "metadata": {},
   "outputs": [],
   "source": [
    "class Y:\n",
    "    def __init__(self, v0):\n",
    "        self.v0 = v0\n",
    "        self.g = 9.81\n",
    "    def value(self, t):\n",
    "        return self.v0*t - 0.5*self.g*t**2"
   ]
  },
  {
   "cell_type": "markdown",
   "metadata": {},
   "source": [
    "An example of its usage: "
   ]
  },
  {
   "cell_type": "code",
   "execution_count": 9,
   "metadata": {},
   "outputs": [
    {
     "name": "stdout",
     "output_type": "stream",
     "text": [
      "3\n",
      "0.25095\n"
     ]
    }
   ],
   "source": [
    "y = Y(v0=3)      # Create instance\n",
    "v = y.value(0.1) # Compute function value\n",
    "print(y.v0)\n",
    "print(v)"
   ]
  },
  {
   "cell_type": "markdown",
   "metadata": {},
   "source": [
    "When we write `y = Y(v0=3)` we create a new variable (instance) `y` of *type ` Y`*.\n",
    "\n",
    "`Y(3)` is a call to the constructor:"
   ]
  },
  {
   "cell_type": "raw",
   "metadata": {},
   "source": [
    "def __init__(self, v0):\n",
    "    self.v0 = v0\n",
    "    self.g = 9.81"
   ]
  },
  {
   "cell_type": "markdown",
   "metadata": {},
   "source": [
    "Think of `self` as `y`, *i.e.*, the new variable to be created. `self.v0` means that we attach a variable `v0` to self (`y`)."
   ]
  },
  {
   "cell_type": "raw",
   "metadata": {},
   "source": [
    "Y.__init__(y, 3)   # is the logic behind Y(3)"
   ]
  },
  {
   "cell_type": "markdown",
   "metadata": {},
   "source": [
    "`self` is always the first argument/parameter in a function, but **never** inserted in the call! After `y=Y(3)`, `y` has two variables `v0` and `g`, and we can take a look at these:"
   ]
  },
  {
   "cell_type": "code",
   "execution_count": null,
   "metadata": {},
   "outputs": [],
   "source": [
    "print(y.v0)\n",
    "print(y.g)"
   ]
  },
  {
   "cell_type": "markdown",
   "metadata": {},
   "source": [
    "Functions in classes are called **methods**. Variables in classes are called **attributes**. Therefore, in the above example the `value` *method* was"
   ]
  },
  {
   "cell_type": "raw",
   "metadata": {},
   "source": [
    "def value(self, t):\n",
    "  return self.v0*t - 0.5*self.g*t**2"
   ]
  },
  {
   "cell_type": "markdown",
   "metadata": {},
   "source": [
    "Example on a call:"
   ]
  },
  {
   "cell_type": "raw",
   "metadata": {},
   "source": [
    "v = y.value(t=0.1)"
   ]
  },
  {
   "cell_type": "markdown",
   "metadata": {},
   "source": [
    "`self` is left out in the call (as discussed above), but Python automatically inserts `y` as the `self` argument inside the `value` method. Inside the `value` *method* things *appear* as"
   ]
  },
  {
   "cell_type": "raw",
   "metadata": {},
   "source": [
    "return y.v0*t - 0.5*y.g*t**2"
   ]
  },
  {
   "cell_type": "markdown",
   "metadata": {},
   "source": [
    "The method `value` has, through `self`, access to the attributes. Attributes are like *global variables* in the class, and any method gets a `self` parameter as its first argument. The method can then access the attributes of the class through `self`."
   ]
  },
  {
   "cell_type": "markdown",
   "metadata": {},
   "source": [
    "In summary, `class Y` collects the attributes `v0` and `g` and the method `value` together as a single unit. `value(t)` is function of `t` only, but has access to the class attributes `v0` and `g`.\n",
    "\n",
    "The great feature of Python is that we can send `y.value` as an ordinary function of `t` to any other function that expects a function `f(t)`:"
   ]
  },
  {
   "cell_type": "code",
   "execution_count": null,
   "metadata": {},
   "outputs": [],
   "source": [
    "from math import pi\n",
    "from pylab import *\n",
    "\n",
    "def table(f, tstop, n):\n",
    "    \"\"\"Make a table of t, f(t) values.\"\"\"\n",
    "    tstring = \"\"\n",
    "    for t in linspace(0, tstop, n):\n",
    "        tstring += \"%8.3f %8.3f\\n\" % (t, f(t))\n",
    "    return tstring\n",
    "\n",
    "def g(t):\n",
    "    return sin(t)*exp(-t)\n",
    "\n",
    "table(g, 2*pi, 11) # send ordinary function\n",
    "\n",
    "y = Y(6.5)\n",
    "print(table(y.value, 2*pi, 11)) # send class method"
   ]
  },
  {
   "cell_type": "markdown",
   "metadata": {},
   "source": [
    "## <span style=\"color:blue\">Exercise 1: Make a function class</span>\n",
    "Make a class called *F* that implements the function\n",
    "\n",
    "$$f(x; a, w) = \\exp(−ax)\\sin(wx).$$\n",
    "\n",
    "A *value(x)* method computes values of *f*, while *a* and *w* are class attributes.\n"
   ]
  },
  {
   "cell_type": "code",
   "execution_count": null,
   "metadata": {},
   "outputs": [],
   "source": []
  },
  {
   "cell_type": "markdown",
   "metadata": {},
   "source": [
    "Test the class with the following main program:"
   ]
  },
  {
   "cell_type": "code",
   "execution_count": null,
   "metadata": {},
   "outputs": [],
   "source": [
    "from math import *\n",
    "f = F(a=1.0, w=0.1)\n",
    "print(f.value(x=pi))\n",
    "f.a = 2\n",
    "print(f.value(pi))"
   ]
  },
  {
   "cell_type": "markdown",
   "metadata": {},
   "source": [
    "## <span style=\"color:blue\">Exercise 2: Make a very simple class</span>\n",
    "Make a class called *Simple* with one attribute *i*, one method *double* which replaces the value of *i* by *i+i*, and a constructor that initializes the attribute. "
   ]
  },
  {
   "cell_type": "code",
   "execution_count": null,
   "metadata": {},
   "outputs": [],
   "source": []
  },
  {
   "cell_type": "markdown",
   "metadata": {},
   "source": [
    "Try out the following code for testing the class (but before you run this code, convince yourself what the output of the *print* statements will be):"
   ]
  },
  {
   "cell_type": "code",
   "execution_count": null,
   "metadata": {},
   "outputs": [],
   "source": [
    "s1 = Simple(4)\n",
    "for i in range(4):\n",
    "    s1.double()\n",
    "print s1.i\n",
    "\n",
    "s2 = Simple('Hello')\n",
    "s2.double(); s2.double()\n",
    "print(s2.i)\n",
    "s2.i = 100\n",
    "print(s2.i)"
   ]
  },
  {
   "cell_type": "markdown",
   "metadata": {},
   "source": [
    "##Another class example: a bank account\n",
    "\n",
    "* Attributes: name of owner, account number, balance\n",
    "* Methods: deposit, withdraw, pretty print"
   ]
  },
  {
   "cell_type": "code",
   "execution_count": 10,
   "metadata": {},
   "outputs": [],
   "source": [
    "class Account:\n",
    "    \n",
    "    def __init__(self, name, account_number, initial_amount):\n",
    "        self.name = name\n",
    "        self.no = account_number\n",
    "        self.balance = initial_amount\n",
    "        \n",
    "    def deposit(self, amount):\n",
    "        self.balance += amount\n",
    "        \n",
    "    def withdraw(self, amount):\n",
    "        self.balance -= amount\n",
    "        \n",
    "    def as_string(self):\n",
    "        return '%s, %s, balance: %s' % (self.name, self.no, self.balance)"
   ]
  },
  {
   "cell_type": "code",
   "execution_count": 11,
   "metadata": {},
   "outputs": [
    {
     "name": "stdout",
     "output_type": "stream",
     "text": [
      "John Olsson’s balance: 13500.00\n"
     ]
    }
   ],
   "source": [
    "a1 = Account('John Olsson', '19371554951', 20000)\n",
    "a2 = Account('Liz Olsson', '19371564761', 20000)\n",
    "a1.deposit(1000)\n",
    "a1.withdraw(4000)\n",
    "a2.withdraw(10500)\n",
    "a1.withdraw(3500)\n",
    "print(\"%s’s balance: %.2f\"%(a1.name, a1.balance))"
   ]
  },
  {
   "cell_type": "code",
   "execution_count": 12,
   "metadata": {},
   "outputs": [
    {
     "name": "stdout",
     "output_type": "stream",
     "text": [
      "John Olsson, 19371554951, balance: 13500\n"
     ]
    }
   ],
   "source": [
    "print(a1.as_string())"
   ]
  },
  {
   "cell_type": "code",
   "execution_count": 13,
   "metadata": {},
   "outputs": [
    {
     "name": "stdout",
     "output_type": "stream",
     "text": [
      "Liz Olsson, 19371564761, balance: 9500\n"
     ]
    }
   ],
   "source": [
    "print(a2.as_string())"
   ]
  },
  {
   "cell_type": "markdown",
   "metadata": {},
   "source": [
    "## <span style=\"color:blue\">Exercise 3: Extend a class</span>\n",
    "Add an attribute called *transactions* to the *Account* class given above. The new attribute counts the number of transactions done in the *deposit* and *withdraw* methods. The total number of transactions should be printed in the *str* method. Write a simple test program to demonstrate that transaction gets the right value after some calls to *deposit* and *withdraw*."
   ]
  },
  {
   "cell_type": "code",
   "execution_count": null,
   "metadata": {},
   "outputs": [],
   "source": []
  },
  {
   "cell_type": "markdown",
   "metadata": {},
   "source": [
    "## Protecting attributes\n",
    "It is not possible in Python to explicitly protect attributes from being overwritten by the calling function, *i.e.* the following is possible but not intended:"
   ]
  },
  {
   "cell_type": "code",
   "execution_count": null,
   "metadata": {},
   "outputs": [],
   "source": [
    "a1.name = 'Some other name'\n",
    "a1.balance = 100000\n",
    "a1.no = '19371564768'"
   ]
  },
  {
   "cell_type": "markdown",
   "metadata": {},
   "source": [
    "The **assumptions** on correct usage:\n",
    "\n",
    "* The attributes should not be changed!\n",
    "* The `balance` attribute can be viewed.\n",
    "* Changing `balance` is done through with the methods `draw` and `deposit`.\n",
    "\n",
    "Remedy - Attributes and methods not intended for use outside the class can be marked as protected by prefixing the name with an underscore (*e.g.*, `_name`). This is just a convention to warn you to stay away from messing with the attribute directly. There is no technical way of stopping attributes and methods from being accessed directly from outside the class.\n",
    "\n",
    "We rewrite the account class using this convention:"
   ]
  },
  {
   "cell_type": "code",
   "execution_count": null,
   "metadata": {},
   "outputs": [],
   "source": [
    "class AccountP:\n",
    "    def __init__(self, name, account_number, initial_amount):\n",
    "        self._name = name\n",
    "        self._no = account_number\n",
    "        self._balance = initial_amount\n",
    "    def deposit(self, amount):\n",
    "        self._balance += amount\n",
    "    def withdraw(self, amount):\n",
    "        self._balance -= amount\n",
    "    def balance(self):    # NEW - read balance value\n",
    "        return self._balance\n",
    "    def as_string(self):\n",
    "        return '%s, %s, balance: %s' %(self._name, self._no, self._balance)"
   ]
  },
  {
   "cell_type": "code",
   "execution_count": null,
   "metadata": {},
   "outputs": [],
   "source": [
    "a1 = AccountP('John Olsson', '19371554951', 20000)\n",
    "a1.withdraw(4000)"
   ]
  },
  {
   "cell_type": "code",
   "execution_count": null,
   "metadata": {},
   "outputs": [],
   "source": [
    "print(a1._balance)    # it works, but a convention is broken"
   ]
  },
  {
   "cell_type": "code",
   "execution_count": null,
   "metadata": {},
   "outputs": [],
   "source": [
    "print(a1.balance()) # correct way of viewing the balance"
   ]
  },
  {
   "cell_type": "code",
   "execution_count": null,
   "metadata": {},
   "outputs": [],
   "source": [
    "a1._no = '19371554955' # if you did this you'd probably lose your job! Don't mess with the convention."
   ]
  },
  {
   "cell_type": "markdown",
   "metadata": {},
   "source": [
    "###Example - a phone book\n",
    "A phone book is a list of data about persons. Typical data includes: name, mobile phone, office phone, private phone, email. This data about a person can be  collected in a class as **attributes**. Think about what kinds of **methods** make sense for this class, e.g.:\n",
    "\n",
    "* Constructor for initializing name, plus one or more other data\n",
    "* Add new mobile number\n",
    "* Add new office number\n",
    "* Add new private number\n",
    "* Add new email\n",
    "* Write out person data"
   ]
  },
  {
   "cell_type": "code",
   "execution_count": null,
   "metadata": {},
   "outputs": [],
   "source": [
    "class Person:\n",
    "    def __init__(self, name, mobile_phone=None, office_phone=None, private_phone=None, email=None):\n",
    "        self.name = name\n",
    "        self.mobile = mobile_phone\n",
    "        self.office = office_phone\n",
    "        self.private = private_phone\n",
    "        self.email = email\n",
    "    def add_mobile_phone(self, number):\n",
    "        self.mobile = number\n",
    "    def add_office_phone(self, number):\n",
    "        self.office = number\n",
    "    def add_private_phone(self, number):\n",
    "        self.private = number\n",
    "    def add_email(self, address):\n",
    "        self.email = address\n",
    "    def as_string(self):\n",
    "        s = self.name + '\\n'\n",
    "        if self.mobile is not None:\n",
    "            s += 'mobile phone:   %s\\n' % self.mobile\n",
    "        if self.office is not None:\n",
    "            s += 'office phone:   %s\\n' % self.office\n",
    "        if self.private is not None:\n",
    "            s += 'private phone:  %s\\n' % self.private\n",
    "        if self.email is not None:\n",
    "            s += 'email address:  %s\\n' % self.email\n",
    "        return s"
   ]
  },
  {
   "cell_type": "code",
   "execution_count": null,
   "metadata": {},
   "outputs": [],
   "source": [
    "p1 = Person('Gerard Gorman', email='g.gorman@imperial.ac.uk')\n",
    "p1.add_office_phone('49985')\n",
    "\n",
    "p2 = Person('ICT Service Desk', office_phone='49000')\n",
    "p2.add_email('service.desk@imperial.ac.uk')\n",
    "\n",
    "phone_book = {'Gorman': p1, 'ICT': p2}\n",
    "for p in phone_book:\n",
    "    print(phone_book[p].as_string())"
   ]
  },
  {
   "cell_type": "markdown",
   "metadata": {},
   "source": [
    "### Example - a circle\n",
    "A circle is defined by its center point $x0, y0$ and its radius $R$. These data can be attributes in a class. Possible methods in the class are *area* and *circumference*. The constructor initializes $x0$, $y0$ and $R$."
   ]
  },
  {
   "cell_type": "code",
   "execution_count": null,
   "metadata": {},
   "outputs": [],
   "source": [
    "class Circle:\n",
    "    def __init__(self, x0, y0, R):\n",
    "        self.x0, self.y0, self.R = x0, y0, R\n",
    "    def area(self):\n",
    "        return pi*self.R**2\n",
    "    def circumference(self):\n",
    "        return 2*pi*self.R"
   ]
  },
  {
   "cell_type": "code",
   "execution_count": null,
   "metadata": {},
   "outputs": [],
   "source": [
    "c = Circle(2, -1, 5)\n",
    "print('A circle with radius %g at (%g, %g) has area %g' % (c.R, c.x0, c.y0, c.area()))"
   ]
  },
  {
   "cell_type": "markdown",
   "metadata": {},
   "source": [
    "## <span style=\"color:blue\">Exercise 4: Make a class for straight lines</span>\n",
    "Make a class called *Line* whose constructor takes two points $p_1$ and $p_2$ (2-tuples or 2-lists) as input. The line goes through these two points (see function *line* defined below for the relevant formula of the line). A *value(x)* method computes a value on the line at the point *x*."
   ]
  },
  {
   "cell_type": "code",
   "execution_count": null,
   "metadata": {},
   "outputs": [],
   "source": [
    "def line(p1, p2):\n",
    "    \"\"\"\n",
    "    Compute the coefficients a and b in the mathematical\n",
    "    expression for a straight line y = a*x + b that goes\n",
    "    through two points p1 and p2.\n",
    "    return: coefficients a, b (floats) for the line (y=a*x+b).\n",
    "    \"\"\"\n",
    "    a = (p2[1] - p1[1])/(p2[0] - p1[0])\n",
    "    b = p1[1] - a*p1[0]\n",
    "    return a, b"
   ]
  },
  {
   "cell_type": "code",
   "execution_count": null,
   "metadata": {},
   "outputs": [],
   "source": []
  },
  {
   "cell_type": "markdown",
   "metadata": {},
   "source": [
    "## <span style=\"color:blue\">Exercise 5: Make a class for quadratic functions</span>\n",
    "Consider a quadratic function $f(x; a, b, c) = ax^2 + bx + c$. Make a class called *Quadratic* for representing *f*, where *a*, *b*, and *c* are attributes, and the methods are:\n",
    "\n",
    "1. *value* for computing a value of *f* at a point *x*,\n",
    "2. *table* for writing out a table of *x* and *f* values for n *x* values in the\n",
    "interval *[L, R]*,\n",
    "3. *roots* for computing the two roots."
   ]
  },
  {
   "cell_type": "code",
   "execution_count": null,
   "metadata": {},
   "outputs": [],
   "source": []
  },
  {
   "cell_type": "markdown",
   "metadata": {},
   "source": [
    "## Special methods for nice syntax\n",
    "Some class methods have leading and trailing double underscores, *e.g.*,"
   ]
  },
  {
   "cell_type": "raw",
   "metadata": {},
   "source": [
    "def __init__(self, ...)\n",
    "def __call__(self, ...)\n",
    "def __add__(self, other)"
   ]
  },
  {
   "cell_type": "markdown",
   "metadata": {},
   "source": [
    "These are *special methods* and allow for special syntax. Recall for example the constructor, we write"
   ]
  },
  {
   "cell_type": "raw",
   "metadata": {},
   "source": [
    "y = Y(4)"
   ]
  },
  {
   "cell_type": "markdown",
   "metadata": {},
   "source": [
    "and not (the more logical)"
   ]
  },
  {
   "cell_type": "raw",
   "metadata": {},
   "source": [
    "Y.__init__(y, 4)"
   ]
  },
  {
   "cell_type": "markdown",
   "metadata": {},
   "source": [
    "* With the `__call__` special method we can make the class instance behave and look as a function.\n",
    "* With the `__add__` special method we can add two class instances with our own tailored rule for addition."
   ]
  },
  {
   "cell_type": "markdown",
   "metadata": {},
   "source": [
    "### Example of a `__call__` special method\n",
    "Let us replace the `value` method in `class Y` by a `__call__` special method:"
   ]
  },
  {
   "cell_type": "code",
   "execution_count": null,
   "metadata": {},
   "outputs": [],
   "source": [
    "class Y:\n",
    "    def __init__(self, v0):\n",
    "        self.v0 = v0\n",
    "        self.g = 9.81\n",
    "    def __call__(self, t):\n",
    "        return self.v0*t - 0.5*self.g*t**2"
   ]
  },
  {
   "cell_type": "markdown",
   "metadata": {},
   "source": [
    "Now we can write:"
   ]
  },
  {
   "cell_type": "code",
   "execution_count": null,
   "metadata": {},
   "outputs": [],
   "source": [
    "y = Y(3)\n",
    "v = y(0.1) # same as v = y.__call__(0.1)"
   ]
  },
  {
   "cell_type": "markdown",
   "metadata": {},
   "source": [
    "The instance $y$ behaves/looks as a function! The `value(t)` method does the same, but the special method `__call__` allows nicer syntax for computing function values."
   ]
  },
  {
   "cell_type": "markdown",
   "metadata": {},
   "source": [
    "### Example of a `__str__` special method (for printing)\n",
    "\n",
    "In Python, we can usually print an object `a` by"
   ]
  },
  {
   "cell_type": "raw",
   "metadata": {},
   "source": [
    "print(a)"
   ]
  },
  {
   "cell_type": "markdown",
   "metadata": {},
   "source": [
    "This works for built-in types (strings, lists, floats, ...). However, if we have made a new type through a class, Python does not know how to print objects of this type. However, if the class has defined a method `__str__` , Python will use this method to convert the object to a string."
   ]
  },
  {
   "cell_type": "code",
   "execution_count": 26,
   "metadata": {},
   "outputs": [],
   "source": [
    "class Y:\n",
    "    def __init__(self, v0):\n",
    "        self.v0 = v0\n",
    "        self.g = 9.81\n",
    "        self.offset =0\n",
    "    def __call__(self, t):\n",
    "        return self.v0*t - 0.5*self.g*t**2 + self.offset\n",
    "    def __add__(self,other):\n",
    "        out = Y(self.v0)\n",
    "        out.offset += other\n",
    "        return out\n",
    "    def __radd__(self,other):\n",
    "        return self + other\n",
    "    def __str__(self):\n",
    "        return 'v0*t - 0.5*g*t**2; v0=%g' % self.v0"
   ]
  },
  {
   "cell_type": "code",
   "execution_count": 27,
   "metadata": {},
   "outputs": [
    {
     "name": "stdout",
     "output_type": "stream",
     "text": [
      "0.1038\n",
      "1.1038000000000001\n"
     ]
    }
   ],
   "source": [
    "y = Y(1.5)\n",
    "print(y(0.2))\n",
    "\n",
    "y = 1 + y\n",
    "\n",
    "print(y(0.2))"
   ]
  },
  {
   "cell_type": "markdown",
   "metadata": {},
   "source": [
    "### Special methods for arithmetic operations"
   ]
  },
  {
   "cell_type": "raw",
   "metadata": {},
   "source": [
    "c = a+b             # c = a.__add__(b)\n",
    "c = a-b             # c = a.__sub__(b)\n",
    "c = a*b             # c = a.__mul__(b) \n",
    "c = a/b             # c = a.__truediv__(b) \n",
    "c = a//b            # c = a.__floordiv__(b) (Integer division)\n",
    "c = a**e            # c = a.__pow__(e)\n",
    "a += b              # a.__iadd__(b) If a.__iadd__ is not defined, falls back to a = a + b.\n",
    "a -= b              # a.__isub__(b) Corresponding fallback rules apply for the remaining cases.\n",
    "a *= b              # a.__imul__(b)\n",
    "a /= b              # a.__itruediv__(b)\n",
    "a //= b             # a.__ifloordiv__(b)\n",
    "a **= e             # a.__ipow___(e)"
   ]
  },
  {
   "cell_type": "markdown",
   "metadata": {},
   "source": [
    "### Special methods for comparisons"
   ]
  },
  {
   "cell_type": "raw",
   "metadata": {},
   "source": [
    "a == b               #  a.__eq__(b)\n",
    "a != b               #  a.__ne__(b)\n",
    "a < b                #  a.__lt__(b)\n",
    "a <= b               #  a.__le__(b)\n",
    "a > b                #  a.__gt__(b)\n",
    "a >= b               #  a.__ge__(b)"
   ]
  },
  {
   "cell_type": "markdown",
   "metadata": {},
   "source": [
    "Another interesting case is the syntax `a in b` that we have met a few times. There is also a special method that enables an object to implement `in`, but not that in this case it is the container object (`b`) which has to implement the method:"
   ]
  },
  {
   "cell_type": "raw",
   "metadata": {},
   "source": [
    "a in b               #  b.__contains__(a)"
   ]
  },
  {
   "cell_type": "markdown",
   "metadata": {},
   "source": [
    "There are many other special methods which can be used to create classes whose syntax fits in with the operations available for python classes."
   ]
  },
  {
   "cell_type": "markdown",
   "metadata": {},
   "source": [
    "## <span style=\"color:blue\">Exercise 6: A very simple \"Hello, World!\" class</span>\n",
    "Make a class that can only do one thing: *print a* writes \"Hello, World!\" to the screen, where *a* is an instance of the class."
   ]
  },
  {
   "cell_type": "code",
   "execution_count": 32,
   "metadata": {},
   "outputs": [],
   "source": [
    "class HW:\n",
    "    def __str__(self):\n",
    "        return 'Hello, World!'"
   ]
  },
  {
   "cell_type": "code",
   "execution_count": 33,
   "metadata": {},
   "outputs": [
    {
     "name": "stdout",
     "output_type": "stream",
     "text": [
      "Hello, World!\n"
     ]
    }
   ],
   "source": [
    "a = HW()\n",
    "print(a)"
   ]
  },
  {
   "cell_type": "markdown",
   "metadata": {},
   "source": [
    "## <span style=\"color:blue\">Exercise 7: Use special methods</span>\n",
    "Modify the class from the first exercise such that the following code works:"
   ]
  },
  {
   "cell_type": "code",
   "execution_count": 41,
   "metadata": {},
   "outputs": [
    {
     "name": "stdout",
     "output_type": "stream",
     "text": [
      "0.01335383513703555\n",
      "0.0005770715401197441\n",
      "exp(-ax)sin(wx)\n"
     ]
    }
   ],
   "source": [
    "from math import exp,sin,pi\n",
    "\n",
    "class F:\n",
    "    def __init__(self,a,w):\n",
    "        self.a = a\n",
    "        self.w = w\n",
    "    def __call__(self,x):\n",
    "        return exp(-self.a*x)*sin(self.w*x)\n",
    "    def __str__(self):\n",
    "        return 'exp(-ax)sin(wx)'\n",
    "        \n",
    "\n",
    "f = F(1.0, 0.1)\n",
    "print(f(pi))\n",
    "f.a = 2\n",
    "print (f(pi))\n",
    "print (f)"
   ]
  },
  {
   "cell_type": "code",
   "execution_count": null,
   "metadata": {
    "collapsed": true
   },
   "outputs": [],
   "source": []
  }
 ],
 "metadata": {
  "kernelspec": {
   "display_name": "Python 3",
   "language": "python",
   "name": "python3"
  },
  "language_info": {
   "codemirror_mode": {
    "name": "ipython",
    "version": 3
   },
   "file_extension": ".py",
   "mimetype": "text/x-python",
   "name": "python",
   "nbconvert_exporter": "python",
   "pygments_lexer": "ipython3",
   "version": "3.6.2"
  }
 },
 "nbformat": 4,
 "nbformat_minor": 1
}
