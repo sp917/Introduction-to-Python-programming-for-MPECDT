{
 "cells": [
  {
   "cell_type": "markdown",
   "metadata": {},
   "source": [
    "# Introduction to Python programming.\n",
    "\n",
    "### [Gerard Gorman](http://www.imperial.ac.uk/people/g.gorman), [Christian Jacobs](http://christianjacobs.uk/)\n",
    "\n",
    "### Updated for MPECDT by [David Ham](http://www.imperial.ac.uk/people/david.ham)"
   ]
  },
  {
   "cell_type": "markdown",
   "metadata": {},
   "source": [
    "# Lecture 1: Computing with formulas\n",
    "\n",
    "## Learning objectives:\n",
    "\n",
    "* Execute a Python statement from within IPython.\n",
    "* Learn what a program variable is and how to express a mathematical expression in code.\n",
    "* Print program outputs.\n",
    "* Access mathematical functions from a Python module."
   ]
  },
  {
   "cell_type": "markdown",
   "metadata": {},
   "source": [
    "## Programming a mathematical formula\n",
    "\n",
    "Here is a formula for the position of a ball in vertical motion, starting at ground level (i.e. $y=0$) at time $t=0$:\n",
    "     $$ y(t) = v_0t- \\frac{1}{2}gt^2 $$\n",
    "\n",
    "where:\n",
    "\n",
    "* $y$ is the height (position) as a function of time $t$\n",
    "* $v_0$ is the initial velocity (at $t=0$)\n",
    "* $g$ is the acceleration due to gravity\n",
    "\n",
    "The computational task is: given $v_0$, $g$ and $t$, compute the value $y$. \n",
    "\n",
    "**How do we program this task?** A program is a sequence of instructions given to the computer. However, while a programming language is much **simpler** than a natural language, it is more **pedantic**. Programs must have correct syntax, i.e., correct use of the computer language grammar rules, and no misprints.\n",
    "\n",
    "So let's execute a Python statement based on this example. Evaluate $y(t) = v_0t- \\frac{1}{2}gt^2$ for $v_0=5$, $g=9.81$ and $t=0.6$. If you were doing this on paper you would probably write something like this: $$ y = 5\\cdot 0.6 - {1\\over2}\\cdot 9.81 \\cdot 0.6^2.$$ Happily, writing this in Python is very similar:"
   ]
  },
  {
   "cell_type": "code",
   "execution_count": 1,
   "metadata": {},
   "outputs": [
    {
     "name": "stdout",
     "output_type": "stream",
     "text": [
      "1.2342\n"
     ]
    }
   ],
   "source": [
    "print(5*0.6 - 0.5*9.81*0.6**2)"
   ]
  },
  {
   "cell_type": "markdown",
   "metadata": {},
   "source": [
    "Go ahead and mess with the code above to see what happens when you change values and rerun. To see what I mean about programming being pedantic, see what happens if you replace `**` with `^`:"
   ]
  },
  {
   "cell_type": "code",
   "execution_count": 9,
   "metadata": {},
   "outputs": [
    {
     "name": "stdout",
     "output_type": "stream",
     "text": [
      "0.5 0 1\n"
     ]
    }
   ],
   "source": [
    "print(1/2, 2//3, 13%3)"
   ]
  },
  {
   "cell_type": "markdown",
   "metadata": {},
   "source": [
    "or `write` rather than `print`:"
   ]
  },
  {
   "cell_type": "code",
   "execution_count": 5,
   "metadata": {},
   "outputs": [
    {
     "ename": "SyntaxError",
     "evalue": "invalid syntax (<ipython-input-5-b7024092bb96>, line 1)",
     "output_type": "error",
     "traceback": [
      "\u001b[0;36m  File \u001b[0;32m\"<ipython-input-5-b7024092bb96>\"\u001b[0;36m, line \u001b[0;32m1\u001b[0m\n\u001b[0;31m    write 5*0.6 - 0.5*9.81*0.6**2\u001b[0m\n\u001b[0m          ^\u001b[0m\n\u001b[0;31mSyntaxError\u001b[0m\u001b[0;31m:\u001b[0m invalid syntax\n"
     ]
    }
   ],
   "source": [
    "write 5*0.6 - 0.5*9.81*0.6**2"
   ]
  },
  {
   "cell_type": "markdown",
   "metadata": {},
   "source": [
    "While a human might still understand these statements, they do not mean anything to the Python interpreter. Rather than throwing your hands up in the air whenever you get an error message like the above (you are going to see many during the course of these lectures!!!) train yourself to read the message patiently to get an idea what it is complaining about and re-read your code from the perspective of the pedantic Python interpreter.\n",
    "\n",
    "Error messages can look bewildering (frustrating etc.) at first, but it gets much **easier with practise**."
   ]
  },
  {
   "cell_type": "markdown",
   "metadata": {},
   "source": [
    "## Storing numbers in variables\n",
    "From mathematics you are already familiar with variables (e.g. $v_0=5,\\quad g=9.81,\\quad t=0.6,\\quad y = v_0t -{1\\over2}gt^2$) and you already know how important they are for working out complicated problems. Similarly, you can use variables in a program to make it easier to read and understand."
   ]
  },
  {
   "cell_type": "code",
   "execution_count": 11,
   "metadata": {},
   "outputs": [
    {
     "name": "stdout",
     "output_type": "stream",
     "text": [
      "1.2342\n"
     ]
    }
   ],
   "source": [
    "v0 = 5\n",
    "g = 9.81\n",
    "t = 0.6\n",
    "y = v0*t - 0.5*g*t**2\n",
    "print(y)"
   ]
  },
  {
   "cell_type": "code",
   "execution_count": 10,
   "metadata": {},
   "outputs": [
    {
     "name": "stdout",
     "output_type": "stream",
     "text": [
      "<class 'int'>\n",
      "<class 'float'>\n"
     ]
    }
   ],
   "source": [
    "a=2\n",
    "print(type(a))\n",
    "a=2.5\n",
    "print(type(a))"
   ]
  },
  {
   "cell_type": "markdown",
   "metadata": {},
   "source": [
    "This program spans several lines of text and uses variables, otherwise the program performs the same calculations and gives the same output as the previous program.\n",
    "\n",
    "In mathematics we usually use one letter for a variable, resorting to using the Greek alphabet and other characters for more clarity. The main reason for this is to avoid becoming exhausted from writing when working out long expressions or derivations. However, when programming you should use more descriptive names for variable names. This might not seem like an important consideration for the trivial example here but it becomes increasingly important as the program gets more complicated and if someone else has to read your code. **Good variable names make a program easier to understand!**\n",
    "\n",
    "Permitted variable names include:\n",
    "\n",
    "* One-letter symbols.\n",
    "* Words or abbreviation of words.\n",
    "* Variable names can contain a-z, A-Z, underscore (\"'_'\") and digits 0-9, **but** the name cannot start with a digit.\n",
    "* In Python 3, variable names can also include letters from other alphabets, such as α or π.\n",
    "\n",
    "Variable names are case-sensitive (i.e. \"'a'\" is different from \"'A'\"). Let's rewrite the previous example using more descriptive variable names:"
   ]
  },
  {
   "cell_type": "code",
   "execution_count": 13,
   "metadata": {},
   "outputs": [
    {
     "name": "stdout",
     "output_type": "stream",
     "text": [
      "1.2342\n"
     ]
    }
   ],
   "source": [
    "initial_velocity = 5\n",
    "g = 9.81\n",
    "TIME = 0.6\n",
    "VerticalPositionOfBall = initial_velocity*TIME - 0.5*g*TIME**2\n",
    "print(VerticalPositionOfBall)"
   ]
  },
  {
   "cell_type": "code",
   "execution_count": 20,
   "metadata": {
    "scrolled": true
   },
   "outputs": [
    {
     "name": "stdout",
     "output_type": "stream",
     "text": [
      "12.566370614359172\n",
      "3.141592653589793\n"
     ]
    }
   ],
   "source": [
    "from math import pi as π\n",
    "radius = 2\n",
    "area = π * radius ** 2\n",
    "print(area)\n",
    "print(π)"
   ]
  },
  {
   "cell_type": "markdown",
   "metadata": {},
   "source": [
    "Certain words have are **reserved** in Python and **cannot be used as variable names**. These are: *and, as, assert, break, class, continue, def, del, elif, else, except, exec, finally, for, from, global, if, import, in, is, lambda, not, or, pass, print, raise, return, try, with, while,* and *yield*."
   ]
  },
  {
   "cell_type": "markdown",
   "metadata": {},
   "source": [
    "## Adding comments to code\n",
    "\n",
    "Not everything written in a computer program is intended for execution. In Python anything on a line after the '#' character is ignored and is known as a **comment**. You can write whatever you want in a comment. Comments are intended to be used to explain what a snippet of code is intended for. It might for example explain the objective or provide a reference to the data or algorithm used. This is both useful for you when you have to understand your code at some later stage, and indeed for whoever has to read and understand your code later."
   ]
  },
  {
   "cell_type": "code",
   "execution_count": 33,
   "metadata": {},
   "outputs": [
    {
     "name": "stdout",
     "output_type": "stream",
     "text": [
      "1.2342\n"
     ]
    }
   ],
   "source": [
    "# Program for computing the height of a ball in vertical motion.\n",
    "v0 = 5    # Set initial velocity in m/s.\n",
    "g = 9.81  # Set acceleration due to gravity in m/s^2.\n",
    "t = 0.6   # Time at which we want to know the height of the ball in seconds.\n",
    "y = v0*t - 0.5*g*t**2 # Calculate the vertical position\n",
    "print(y)"
   ]
  },
  {
   "cell_type": "markdown",
   "metadata": {},
   "source": [
    "## <span style=\"color:blue\">Exercise: Convert from meters to Imperial length units</span>\n",
    "Make a program where you set a length given in meters and then compute and write out the corresponding length measured in inches, in feet, in yards, and in miles. Use the fact that one inch is 2.54 cm, one foot is 12 inches, one yard is 3 feet, and one British mile is 1760 yards. As a verification, a length of 640 meters corresponds to 25196.85 inches, 2099.74 feet, 699.91 yards, or 0.3977 miles."
   ]
  },
  {
   "cell_type": "code",
   "execution_count": 21,
   "metadata": {},
   "outputs": [
    {
     "name": "stdout",
     "output_type": "stream",
     "text": [
      "640 metres = 25196.850393700788 inches\n",
      "2099.737532808399 feet\n",
      "699.912510936133 yards\n",
      "0.3976775630318938 miles\n"
     ]
    }
   ],
   "source": [
    "# x is the length in metres\n",
    "x = 640\n",
    "x0=x\n",
    "x = x*100 #convert to cm\n",
    "x = x/2.54 #convert to inches\n",
    "print(x0,\"metres =\",x, \"inches\")\n",
    "x = x/12 # convert to feet\n",
    "print(x,\"feet\")\n",
    "x = x/3 # convert to yards\n",
    "print(x,\"yards\")\n",
    "x = x/1760 #convert to miles\n",
    "print(x,\"miles\")\n"
   ]
  },
  {
   "cell_type": "markdown",
   "metadata": {},
   "source": [
    "## Formatting numbers as strings\n",
    "Often we want to print out results using a combination of text and numbers, e.g. \"'At t=0.6 s, y is 1.23 m'\". Particularly when printing out floating point numbers we should **never** quote numbers to a higher accuracy than they were measured. Python provides a *printf formatting* syntax exactly for this purpose. We can see in the following example that the *slot* `%g` was used to express the floating point number with the minimum number of significant figures, and the *slot* `%.2f` specified that only two digits are printed out after the decimal point."
   ]
  },
  {
   "cell_type": "code",
   "execution_count": 22,
   "metadata": {},
   "outputs": [
    {
     "name": "stdout",
     "output_type": "stream",
     "text": [
      "At t=0.6s, y is 1.23m.\n"
     ]
    }
   ],
   "source": [
    "print(\"At t=%gs, y is %.2fm.\" % (t, y))"
   ]
  },
  {
   "cell_type": "markdown",
   "metadata": {},
   "source": [
    "Notice in this example how the values in the tuple `(t, y)` are inserted into the *slots*.\n",
    "\n",
    "Sometimes we want a multi-line output. This is achieved using a triple quotation (*i.e.* `\"\"\"`):"
   ]
  },
  {
   "cell_type": "code",
   "execution_count": 39,
   "metadata": {},
   "outputs": [
    {
     "name": "stdout",
     "output_type": "stream",
     "text": [
      "At t=0.60s, a ball with initial 'velocity v0=5.000e+00 m/s is located at the height 1.23 m.\n"
     ]
    }
   ],
   "source": [
    "print(\"At t=%.2fs, a ball with initial 'velocity v0=%.3e m/s is located at the height %.2f m.\"% (t, v0, y))"
   ]
  },
  {
   "cell_type": "markdown",
   "metadata": {},
   "source": [
    "## <span style=\"color:blue\">Exercise: Compute the air resistance on a football</span>\n",
    "The drag force, due to air resistance, on an object can be expressed as\n",
    "$$F_d = \\frac{1}{2}C_D\\rho AV^2$$\n",
    "where $\\rho$ is the density of the air, $V$ is the velocity of the object, $A$ is the cross-sectional area (normal to the velocity direction), and $C_D$ is the drag coefficient, which depends heavily on the shape of the object and the roughness of the surface.</br></br>\n",
    "The gravity force on an object with mass $m$ is $F_g = mg$, where $g = 9.81ms^{−2}$.</br></br>\n",
    "Write a program that computes the drag force and the gravity force on an object. Write out the forces with one decimal in units of Newton ($N = kgm/s^2$). Also print the ratio of the drag force and the gravity force. Define $C_D$, $\\rho$, $A$, $V$, $m$, $g$, $F_d$, and $F_g$ as variables, and put a comment with the corresponding unit.</br></br>\n",
    "As a computational example, you can initialize all variables with values relevant for a football kick. The density of air is $\\rho = 1.2 kg m^{−3}$. For any ball, we have obviously that $A = \\pi a^2$, where $a$ is the radius of the ball, which can be taken as $11cm$ for a football. The mass of the ball is $0.43kg$. $C_D$ can be taken as $0.2$.</br></br>\n",
    "Use the program to calculate the forces on the ball for a hard kick, $V = 120km/h$ and for a soft kick, $V = 10km/h$ (it is easy to make the mistake of mixing inconsistent units, so make sure you compute with V expressed in m/s). Make sure you use the *printf* formatting style introduced above."
   ]
  },
  {
   "cell_type": "code",
   "execution_count": 52,
   "metadata": {},
   "outputs": [
    {
     "name": "stdout",
     "output_type": "stream",
     "text": [
      "For a hard kick: Fd = 5.1e1N, Fg = 4.218300e1N, Fd/Fg = 1.201535e1\n",
      "For a soft kick: Fd = 0.035197e4N, Fg = 4.218300e1N, Fd/Fg = 0.008344e1\n"
     ]
    }
   ],
   "source": [
    "from math import pi as π\n",
    "a = 11 #cm\n",
    "g = 9.81 #ms^-2\n",
    "ρ = 1.2 #kgm^-3\n",
    "A = π*(a/100)**2 \n",
    "m = 0.43 #kg\n",
    "C_D = 0.2\n",
    "Vhard = 120 #km/h\n",
    "Vhard = Vhard*1000/3600 #m/s\n",
    "Vsoft = 10 #km/h\n",
    "Vsoft = Vsoft*1000/3600 #m/s\n",
    "\n",
    "\n",
    "Fdhard = 0.5*C_D*ρ*A*Vhard**2\n",
    "Fghard = m*g\n",
    "Ratiohard = Fdhard/Fghard\n",
    "Fdsoft = 0.5*C_D*ρ*A*Vsoft**2\n",
    "Fgsoft = m*g\n",
    "Ratiosoft = Fdsoft/Fgsoft\n",
    "\n",
    "print(\"\"\"For a hard kick: Fd = %.1fe1N, Fg = %fe1N, Fd/Fg = %fe1\n",
    "For a soft kick: Fd = %fe4N, Fg = %fe1N, Fd/Fg = %fe1\"\"\" % (Fdhard,Fghard,Ratiohard,Fdsoft,Fgsoft,Ratiosoft))\n",
    "\n",
    "\n"
   ]
  },
  {
   "cell_type": "markdown",
   "metadata": {},
   "source": [
    "## How are arithmetic expressions evaluated?\n",
    "Consider the random mathematical expression, ${5\\over9} + 2a^4/2$, implemented in Python as `5.0/9 + 2*a**4/2`.\n",
    "\n",
    "The rules for evaluating the expression are the same as in mathematics: proceed term by term (additions/subtractions) from the left, compute powers first, then multiplication and division. Therefore in this example the order of evaluation will be:\n",
    "\n",
    "1. `r1 = 5.0/9`\n",
    "2. `r2 = a**4`\n",
    "3. `r3 = 2*r2`\n",
    "4. `r4 = r3/2`\n",
    "5. `r5 = r1 + r4`\n",
    "\n",
    "Use parenthesis to override these default rules. Indeed, many programmers use parenthesis for greater clarity."
   ]
  },
  {
   "cell_type": "markdown",
   "metadata": {},
   "source": [
    "## <span style=\"color:blue\">Exercise: Compute the growth of money in a bank</span>\n",
    "Let *p* be a bank's interest rate in percent per year. An initial amount *A* has then grown to $$A\\left(1+\\frac{p}{100}\\right)^n$$ after *n* years. Write a program for computing how much money 1000 euros have grown to after three years with a 5% interest rate."
   ]
  },
  {
   "cell_type": "code",
   "execution_count": null,
   "metadata": {},
   "outputs": [],
   "source": []
  },
  {
   "cell_type": "markdown",
   "metadata": {},
   "source": [
    "## Standard mathematical functions\n",
    "What if we need to compute $\\sin x$, $\\cos x$, $\\ln x$, etc. in a program? Such functions are available in Python's *math module*. In fact there is a vast universe of functionality for Python available in modules. We just *import* in whatever we need for the task at hand.\n",
    "\n",
    "In this example we compute $\\sqrt{2}$ using the *sqrt* function in the *math* module:"
   ]
  },
  {
   "cell_type": "code",
   "execution_count": 54,
   "metadata": {},
   "outputs": [
    {
     "name": "stdout",
     "output_type": "stream",
     "text": [
      "1.4142135623730951\n"
     ]
    }
   ],
   "source": [
    "import math\n",
    "r = math.sqrt(2)\n",
    "print(r)"
   ]
  },
  {
   "cell_type": "markdown",
   "metadata": {},
   "source": [
    "or:"
   ]
  },
  {
   "cell_type": "code",
   "execution_count": null,
   "metadata": {},
   "outputs": [],
   "source": [
    "from math import sqrt\n",
    "r = sqrt(2)\n",
    "print(r)"
   ]
  },
  {
   "cell_type": "markdown",
   "metadata": {},
   "source": [
    "or:"
   ]
  },
  {
   "cell_type": "code",
   "execution_count": null,
   "metadata": {},
   "outputs": [],
   "source": [
    "from math import *   # import everything in math\n",
    "r = sqrt(2)\n",
    "print(r)"
   ]
  },
  {
   "cell_type": "markdown",
   "metadata": {},
   "source": [
    "Another example:"
   ]
  },
  {
   "cell_type": "code",
   "execution_count": null,
   "metadata": {},
   "outputs": [],
   "source": [
    "from math import sin, cos, log\n",
    "x = 1.2\n",
    "print(sin(x)*cos(x) + 4*log(x))   # log is ln (base e)"
   ]
  },
  {
   "cell_type": "markdown",
   "metadata": {},
   "source": [
    "## <span style=\"color:blue\">Exercise: Evaluate a Gaussian function</span>\n",
    "The bell-shaped Gaussian function,\n",
    "$$f(x)=\\frac{1}{\\sqrt{2\\pi}s}\\exp\\left(-\\frac{1}{2} \\left(\\frac{x-m}{s}\\right)^2\\right)$$\n",
    "is one of the most widely used functions in science and technology. The parameters $m$ and $s$ are real numbers, where $s$ must be greater than zero. Write a program for evaluating this function when $m = 0$, $s = 2$, and $x = 1$. Verify the program's result by comparing with hand calculations on a calculator."
   ]
  },
  {
   "cell_type": "code",
   "execution_count": 56,
   "metadata": {},
   "outputs": [
    {
     "name": "stdout",
     "output_type": "stream",
     "text": [
      "Help on built-in function copysign in module math:\n",
      "\n",
      "copysign(...)\n",
      "    copysign(x, y)\n",
      "    \n",
      "    Return a float with the magnitude (absolute value) of x but the sign \n",
      "    of y. On platforms that support signed zeros, copysign(1.0, -0.0) \n",
      "    returns -1.0.\n",
      "\n"
     ]
    }
   ],
   "source": [
    "dir(math)\n",
    "help(math.copysign)"
   ]
  },
  {
   "cell_type": "code",
   "execution_count": null,
   "metadata": {
    "collapsed": true
   },
   "outputs": [],
   "source": []
  }
 ],
 "metadata": {
  "kernelspec": {
   "display_name": "Python 3",
   "language": "python",
   "name": "python3"
  },
  "language_info": {
   "codemirror_mode": {
    "name": "ipython",
    "version": 3
   },
   "file_extension": ".py",
   "mimetype": "text/x-python",
   "name": "python",
   "nbconvert_exporter": "python",
   "pygments_lexer": "ipython3",
   "version": "3.6.2"
  }
 },
 "nbformat": 4,
 "nbformat_minor": 1
}
